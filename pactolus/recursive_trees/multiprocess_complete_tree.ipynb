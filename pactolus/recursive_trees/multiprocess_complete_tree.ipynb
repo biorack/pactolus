{
 "cells": [
  {
   "cell_type": "code",
   "execution_count": 1,
   "metadata": {
    "collapsed": false
   },
   "outputs": [],
   "source": [
    "import sys\n",
    "import os\n",
    "import glob\n",
    "import pandas as pd\n",
    "import numpy as np\n",
    "from matplotlib import pyplot as plt\n",
    "import h5py\n",
    "\n",
    "sys.path.insert(0,'/global/project/projectdirs/metatlas/anaconda/lib/python2.7/site-packages' )\n",
    "\n",
    "sys.path.insert(1,'/global/homes/b/bpb/metaiq/')\n",
    "import frag_molecule as frag\n",
    "\n",
    "from rdkit import Chem\n",
    "from rdkit.Chem import AllChem\n",
    "from rdkit.Chem.rdMolDescriptors import CalcExactMolWt\n",
    "from rdkit.Chem import Draw\n",
    "from rdkit.Chem.Draw import IPythonConsole\n",
    "\n",
    "%matplotlib notebook\n"
   ]
  },
  {
   "cell_type": "code",
   "execution_count": 3,
   "metadata": {
    "collapsed": false,
    "scrolled": false
   },
   "outputs": [],
   "source": [
    "# df = pd.read_csv('/project/projectdirs/openmsi/projects/compound_data/jgi_molecules/new_jgi_compounds.csv')\n",
    "\n",
    "# inchis = df.metatlas_inchi.tolist()\n",
    "inchis = ['InChI=1S/C3H9N/c1-2-3-4/h2-4H2,1H3',\n",
    "         'InChI=1S/C12H27N/c1-2-3-4-5-6-7-8-9-10-11-12-13/h2-13H2,1H3',\n",
    "          'InChI=1S/C2H7NO/c3-1-2-4/h4H,1-3H2',\n",
    "          'InChI=1S/C5H14NO/c1-6(2,3)4-5-7/h7H,4-5H2,1-3H3/q+1',\n",
    "          'InChI=1S/C4H12N/c1-5(2,3)4/h1-4H3/q+1',\n",
    "          'InChI=1S/C6H12O6/c7-1-2-3(8)4(9)5(10)6(11)12-2/h2-11H,1H2/t2-,3-,4+,5-,6?/m1/s1']\n",
    "#          'InChI=1S/C27H22O11/c1-36-23(34)12-16-11-21(32)24(26(37-16)14-4-7-18(29)20(31)9-14)25-22(33)10-15(38-27(25)35)5-2-13-3-6-17(28)19(30)8-13/h2-11,24,26,28-31,33H,12H2,1H3/b5-2+/t24-,26-/m1/s1']\n"
   ]
  },
  {
   "cell_type": "code",
   "execution_count": 4,
   "metadata": {
    "collapsed": false
   },
   "outputs": [
    {
     "name": "stdout",
     "output_type": "stream",
     "text": [
      "InChI=1S/C3H9N/c1-2-3-4/h2-4H2,1H3\n"
     ]
    },
    {
     "ename": "NameError",
     "evalue": "name 'input_tuple' is not defined",
     "output_type": "error",
     "traceback": [
      "\u001b[1;31m\u001b[0m",
      "\u001b[1;31mNameError\u001b[0mTraceback (most recent call last)",
      "\u001b[1;32m<ipython-input-4-580333c89fef>\u001b[0m in \u001b[0;36m<module>\u001b[1;34m()\u001b[0m\n\u001b[0;32m     10\u001b[0m     \u001b[0mmol\u001b[0m \u001b[1;33m=\u001b[0m \u001b[0mChem\u001b[0m\u001b[1;33m.\u001b[0m\u001b[0mMolFromInchi\u001b[0m\u001b[1;33m(\u001b[0m\u001b[0minchi\u001b[0m\u001b[1;33m)\u001b[0m\u001b[1;33m\u001b[0m\u001b[0m\n\u001b[0;32m     11\u001b[0m     \u001b[0mmol\u001b[0m \u001b[1;33m=\u001b[0m \u001b[0mChem\u001b[0m\u001b[1;33m.\u001b[0m\u001b[0mRemoveHs\u001b[0m\u001b[1;33m(\u001b[0m\u001b[0mmol\u001b[0m\u001b[1;33m)\u001b[0m\u001b[1;33m\u001b[0m\u001b[0m\n\u001b[1;32m---> 12\u001b[1;33m     \u001b[0minput_tuple\u001b[0m\u001b[1;33m.\u001b[0m\u001b[0mappend\u001b[0m\u001b[1;33m(\u001b[0m\u001b[1;33m[\u001b[0m\u001b[1;33m]\u001b[0m\u001b[1;33m,\u001b[0m\u001b[1;33m[\u001b[0m\u001b[1;33m]\u001b[0m\u001b[1;33m,\u001b[0m\u001b[1;33m[\u001b[0m\u001b[1;33m]\u001b[0m\u001b[1;33m,\u001b[0m\u001b[0mmol\u001b[0m\u001b[1;33m)\u001b[0m\u001b[1;33m\u001b[0m\u001b[0m\n\u001b[0m\u001b[0;32m     13\u001b[0m \u001b[1;31m#     (all_frags,all_frag_masses,relationships) = frag.recursive_tree(all_frags,all_frag_masses,relationships,mol)\u001b[0m\u001b[1;33m\u001b[0m\u001b[1;33m\u001b[0m\u001b[0m\n\u001b[0;32m     14\u001b[0m \u001b[1;31m#     print len(all_frags),len(relationships)\u001b[0m\u001b[1;33m\u001b[0m\u001b[1;33m\u001b[0m\u001b[0m\n",
      "\u001b[1;31mNameError\u001b[0m: name 'input_tuple' is not defined"
     ]
    }
   ],
   "source": [
    "frag = reload(frag)\n",
    "input_tuples = []\n",
    "for inchi in inchis:\n",
    "    print inchi\n",
    "    mol = Chem.MolFromInchi(inchi)\n",
    "    mol = Chem.RemoveHs(mol)\n",
    "    input_tuples.append([],[],[],mol)\n",
    "\n",
    "def make_frag_mp(input_tuple):\n",
    "    all_frags = input_tuple[0]\n",
    "    all_frag_masses = input_tuple[1]\n",
    "    relationships = input_tuple[2]\n",
    "    mol = input_tuple[3]\n",
    "    (all_frags,all_frag_masses,relationships) = frag.recursive_tree(all_frags,all_frag_masses,relationships,mol)\n",
    "    return all_frags,all_frag_masses_relationships\n",
    "\n",
    "def call_mp_fun(input_tuples):\n",
    "    pool = mp.Pool(processes=len(input_tuples))\n",
    "    pool.map(make_frag_mp, input_tuples)\n",
    "#     print len(all_frags),len(relationships)\n",
    "# print time.time() - t0"
   ]
  },
  {
   "cell_type": "code",
   "execution_count": 5,
   "metadata": {
    "collapsed": false
   },
   "outputs": [
    {
     "name": "stdout",
     "output_type": "stream",
     "text": [
      "This is my pdf data: My data\n",
      "This is my pdf data: includes\n",
      "This is my pdf data: strings and\n",
      "This is my pdf data: numbers like\n",
      "This is my pdf data: 42\n",
      "This is my pdf data: and\n",
      "This is my pdf data: 3.14\n",
      "\n"
     ]
    }
   ],
   "source": [
    "import multiprocessing\n",
    "def createpdf(data):\n",
    "    return (\"This is my pdf data: %s\\n\" % data, 0)\n",
    "\n",
    "\n",
    "data = [ \"My data\", \"includes\", \"strings and\", \"numbers like\", 42, \"and\", 3.14]\n",
    "number_of_processes = 5\n",
    "results = multiprocessing.Pool(number_of_processes).map(createpdf, data)\n",
    "outputs = [result[0] for result in results]\n",
    "pdfoutput = \"\".join(outputs)\n",
    "print pdfoutput"
   ]
  },
  {
   "cell_type": "code",
   "execution_count": 23,
   "metadata": {
    "collapsed": false,
    "scrolled": false
   },
   "outputs": [
    {
     "name": "stdout",
     "output_type": "stream",
     "text": [
      "0 \t[H]N([H])C([H])([H])C([H])([H])C([H])([H])C([H])([H])C([H])([H])C([H])([H])C([H])([H])C([H])([H])C([H])([H])C([H])([H])C([H])([H])C([H])([H])[H]\n",
      "1 \t[H][C]([H])[H]\n",
      "2 \t[H][C]([H])C([H])([H])C([H])([H])C([H])([H])C([H])([H])C([H])([H])C([H])([H])C([H])([H])C([H])([H])C([H])([H])C([H])([H])N([H])[H]\n",
      "3 \t[H][C][H]\n",
      "4 \t[H][C]([H])C([H])([H])C([H])([H])C([H])([H])C([H])([H])C([H])([H])C([H])([H])C([H])([H])C([H])([H])C([H])([H])N([H])[H]\n",
      "5 \t[H][C]([H])C([H])([H])C([H])([H])C([H])([H])C([H])([H])C([H])([H])C([H])([H])C([H])([H])C([H])([H])N([H])[H]\n",
      "6 \t[H][C]([H])C([H])([H])C([H])([H])C([H])([H])C([H])([H])C([H])([H])C([H])([H])C([H])([H])N([H])[H]\n",
      "7 \t[H][C]([H])C([H])([H])C([H])([H])C([H])([H])C([H])([H])C([H])([H])C([H])([H])N([H])[H]\n",
      "8 \t[H][C]([H])C([H])([H])C([H])([H])C([H])([H])C([H])([H])C([H])([H])N([H])[H]\n",
      "9 \t[H][C]([H])C([H])([H])C([H])([H])C([H])([H])C([H])([H])N([H])[H]\n",
      "10 \t[H][C]([H])C([H])([H])C([H])([H])C([H])([H])N([H])[H]\n",
      "11 \t[H][C]([H])C([H])([H])C([H])([H])N([H])[H]\n",
      "12 \t[H][C]([H])C([H])([H])N([H])[H]\n",
      "13 \t[H][C]([H])N([H])[H]\n",
      "14 \t[H][N][H]\n",
      "15 \t[H][C]([H])~[C]([H])[H]\n",
      "16 \t[H][C]([H])~[C]([H])([H])~[C]([H])[H]\n",
      "17 \t[H][C]([H])~[C]([H])([H])~[C]([H])([H])~[C]([H])[H]\n",
      "18 \t[H][C]([H])~[C]([H])([H])~[C]([H])([H])~[C]([H])([H])~[C]([H])[H]\n",
      "19 \t[H][C]([H])~[C]([H])([H])~[C]([H])([H])~[C]([H])([H])~[C]([H])([H])~[C]([H])[H]\n",
      "20 \t[H][C]([H])~[C]([H])([H])~[C]([H])([H])~[C]([H])([H])~[C]([H])([H])~[C]([H])([H])~[C]([H])[H]\n",
      "21 \t[H][C]([H])~[C]([H])([H])~[C]([H])([H])~[C]([H])([H])~[C]([H])([H])~[C]([H])([H])~[C]([H])([H])~[C]([H])[H]\n",
      "22 \t[H][C]([H])~[C]([H])([H])~[C]([H])([H])~[C]([H])([H])~[C]([H])([H])~[C]([H])([H])~[C]([H])([H])~[C]([H])([H])~[C]([H])[H]\n",
      "23 \t[H][C]([H])~[C]([H])([H])~[C]([H])([H])~[C]([H])([H])~[C]([H])([H])~[C]([H])([H])~[C]([H])([H])~[C]([H])([H])~[C]([H])([H])~[C]([H])[H]\n",
      "24 \t[H][C]([H])~[C]([H])([H])~[C]([H])([H])~[C]([H])([H])~[C]([H])([H])~[C]([H])([H])~[C]([H])([H])~[C]([H])([H])~[C]([H])([H])~[C]([H])([H])~[C]([H])[H]\n",
      "25 \t[H][C]([H])~[C]([H])([H])[H]\n",
      "26 \t[H][C]([H])~[C]([H])([H])~[C]([H])([H])[H]\n",
      "27 \t[H][C]([H])~[C]([H])([H])~[C]([H])([H])~[C]([H])([H])[H]\n",
      "28 \t[H][C]([H])~[C]([H])([H])~[C]([H])([H])~[C]([H])([H])~[C]([H])([H])[H]\n",
      "29 \t[H][C]([H])~[C]([H])([H])~[C]([H])([H])~[C]([H])([H])~[C]([H])([H])~[C]([H])([H])[H]\n",
      "30 \t[H][C]([H])~[C]([H])([H])~[C]([H])([H])~[C]([H])([H])~[C]([H])([H])~[C]([H])([H])~[C]([H])([H])[H]\n",
      "31 \t[H][C]([H])~[C]([H])([H])~[C]([H])([H])~[C]([H])([H])~[C]([H])([H])~[C]([H])([H])~[C]([H])([H])~[C]([H])([H])[H]\n",
      "32 \t[H][C]([H])~[C]([H])([H])~[C]([H])([H])~[C]([H])([H])~[C]([H])([H])~[C]([H])([H])~[C]([H])([H])~[C]([H])([H])~[C]([H])([H])[H]\n",
      "33 \t[H][C]([H])~[C]([H])([H])~[C]([H])([H])~[C]([H])([H])~[C]([H])([H])~[C]([H])([H])~[C]([H])([H])~[C]([H])([H])~[C]([H])([H])~[C]([H])([H])[H]\n",
      "34 \t[H][C]([H])~[C]([H])([H])~[C]([H])([H])~[C]([H])([H])~[C]([H])([H])~[C]([H])([H])~[C]([H])([H])~[C]([H])([H])~[C]([H])([H])~[C]([H])([H])~[C]([H])([H])[H]\n",
      "35 \t[H][C]([H])~[C]([H])([H])~[C]([H])([H])~[C]([H])([H])~[C]([H])([H])~[C]([H])([H])~[C]([H])([H])~[C]([H])([H])~[C]([H])([H])~[C]([H])([H])~[C]([H])([H])~[C]([H])([H])[H]\n"
     ]
    }
   ],
   "source": [
    "for i,f in enumerate(all_frags):\n",
    "    print i,'\\t',f\n",
    "# print\n",
    "# for i,r in enumerate(relationships):\n",
    "#     print i,'\\t',r"
   ]
  },
  {
   "cell_type": "code",
   "execution_count": null,
   "metadata": {
    "collapsed": true
   },
   "outputs": [],
   "source": []
  },
  {
   "cell_type": "code",
   "execution_count": 2,
   "metadata": {
    "collapsed": false,
    "scrolled": true
   },
   "outputs": [
    {
     "name": "stdout",
     "output_type": "stream",
     "text": [
      "InChI=1S/C2H7NO/c3-1-2-4/h4H,1-3H2\n",
      "11 23\n",
      "InChI=1S/C3H9NO/c4-2-1-3-5/h5H,1-4H2\n",
      "18 57\n",
      "InChI=1S/C5H14NO/c1-6(2,3)4-5-7/h7H,4-5H2,1-3H3/q+1\n",
      "44 185\n",
      "InChI=1S/C4H12N/c1-5(2,3)4/h1-4H3/q+1\n",
      "51 206\n",
      "InChI=1S/C6H12O6/c7-1-2-3(8)4(9)5(10)6(11)12-2/h2-11H,1H2/t2-,3-,4+,5-,6?/m1/s1\n",
      "1048 12405\n"
     ]
    }
   ],
   "source": [
    "# df = pd.read_csv('/project/projectdirs/openmsi/projects/compound_data/jgi_molecules/new_jgi_compounds.csv')\n",
    "frag = reload(frag)\n",
    "all_frags = []\n",
    "relationships = []\n",
    "# inchis = df.metatlas_inchi.tolist()\n",
    "inchis = ['InChI=1S/C2H7NO/c3-1-2-4/h4H,1-3H2',\n",
    "'InChI=1S/C3H9NO/c4-2-1-3-5/h5H,1-4H2',\n",
    "          'InChI=1S/C5H14NO/c1-6(2,3)4-5-7/h7H,4-5H2,1-3H3/q+1',\n",
    "          'InChI=1S/C4H12N/c1-5(2,3)4/h1-4H3/q+1',\n",
    "         'InChI=1S/C6H12O6/c7-1-2-3(8)4(9)5(10)6(11)12-2/h2-11H,1H2/t2-,3-,4+,5-,6?/m1/s1']\n",
    "for inchi in inchis:\n",
    "    print inchi\n",
    "    mol = Chem.MolFromInchi(inchi)\n",
    "    mol = Chem.RemoveHs(mol)\n",
    "    (all_frags,relationships) = frag.recursive_tree(all_frags,relationships,mol)\n",
    "    print len(all_frags),len(relationships)\n"
   ]
  },
  {
   "cell_type": "markdown",
   "metadata": {},
   "source": [
    "# add glucose"
   ]
  },
  {
   "cell_type": "code",
   "execution_count": 11,
   "metadata": {
    "collapsed": false
   },
   "outputs": [
    {
     "name": "stdout",
     "output_type": "stream",
     "text": [
      "InChI=1S/C6H12O6/c7-1-2-3(8)4(9)5(10)6(11)12-2/h2-11H,1H2/t2-,3+,4+,5-,6+/m1/s1\n",
      "1048 12405\n"
     ]
    }
   ],
   "source": [
    "inchi = 'InChI=1S/C6H12O6/c7-1-2-3(8)4(9)5(10)6(11)12-2/h2-11H,1H2/t2-,3+,4+,5-,6+/m1/s1'\n",
    "print inchi\n",
    "mol = Chem.MolFromInchi(inchi)\n",
    "mol = Chem.RemoveHs(mol)\n",
    "(all_frags,relationships) = frag.recursive_tree(all_frags,relationships,mol)\n",
    "print len(all_frags),len(relationships)"
   ]
  },
  {
   "cell_type": "markdown",
   "metadata": {},
   "source": [
    "# now add glucosamine"
   ]
  },
  {
   "cell_type": "code",
   "execution_count": 12,
   "metadata": {
    "collapsed": false
   },
   "outputs": [
    {
     "name": "stdout",
     "output_type": "stream",
     "text": [
      "InChI=1S/C6H13NO5/c7-3-5(10)4(9)2(1-8)12-6(3)11/h2-6,8-11H,1,7H2/t2-,3-,4-,5-,6?/m0/s1\n",
      "1579 19803\n"
     ]
    }
   ],
   "source": [
    "inchi = 'InChI=1S/C6H13NO5/c7-3-5(10)4(9)2(1-8)12-6(3)11/h2-6,8-11H,1,7H2/t2-,3-,4-,5-,6?/m0/s1'\n",
    "print inchi\n",
    "mol = Chem.MolFromInchi(inchi)\n",
    "mol = Chem.RemoveHs(mol)\n",
    "(all_frags,relationships) = frag.recursive_tree(all_frags,relationships,mol)\n",
    "print len(all_frags),len(relationships)"
   ]
  },
  {
   "cell_type": "markdown",
   "metadata": {},
   "source": [
    "# add lactose"
   ]
  },
  {
   "cell_type": "code",
   "execution_count": null,
   "metadata": {
    "collapsed": true
   },
   "outputs": [],
   "source": [
    "Chem.In"
   ]
  },
  {
   "cell_type": "code",
   "execution_count": 13,
   "metadata": {
    "collapsed": false
   },
   "outputs": [
    {
     "name": "stdout",
     "output_type": "stream",
     "text": [
      "InChI=1S/C12H22O11/c13-1-3-5(15)6(16)9(19)12(22-3)23-10-4(2-14)21-11(20)8(18)7(10)17/h3-20H,1-2H2/t3-,4-,5+,6+,7-,8-,9-,10-,11-,12+/m1/s1\n"
     ]
    },
    {
     "ename": "KeyboardInterrupt",
     "evalue": "",
     "output_type": "error",
     "traceback": [
      "\u001b[1;31m\u001b[0m",
      "\u001b[1;31mKeyboardInterrupt\u001b[0mTraceback (most recent call last)",
      "\u001b[1;32m<ipython-input-13-83abc8585d3a>\u001b[0m in \u001b[0;36m<module>\u001b[1;34m()\u001b[0m\n\u001b[0;32m      3\u001b[0m \u001b[0mmol\u001b[0m \u001b[1;33m=\u001b[0m \u001b[0mChem\u001b[0m\u001b[1;33m.\u001b[0m\u001b[0mMolFromInchi\u001b[0m\u001b[1;33m(\u001b[0m\u001b[0minchi\u001b[0m\u001b[1;33m)\u001b[0m\u001b[1;33m\u001b[0m\u001b[0m\n\u001b[0;32m      4\u001b[0m \u001b[0mmol\u001b[0m \u001b[1;33m=\u001b[0m \u001b[0mChem\u001b[0m\u001b[1;33m.\u001b[0m\u001b[0mRemoveHs\u001b[0m\u001b[1;33m(\u001b[0m\u001b[0mmol\u001b[0m\u001b[1;33m)\u001b[0m\u001b[1;33m\u001b[0m\u001b[0m\n\u001b[1;32m----> 5\u001b[1;33m \u001b[1;33m(\u001b[0m\u001b[0mall_frags\u001b[0m\u001b[1;33m,\u001b[0m\u001b[0mrelationships\u001b[0m\u001b[1;33m)\u001b[0m \u001b[1;33m=\u001b[0m \u001b[0mrecursive_tree\u001b[0m\u001b[1;33m(\u001b[0m\u001b[0mall_frags\u001b[0m\u001b[1;33m,\u001b[0m\u001b[0mrelationships\u001b[0m\u001b[1;33m,\u001b[0m\u001b[0mmol\u001b[0m\u001b[1;33m)\u001b[0m\u001b[1;33m\u001b[0m\u001b[0m\n\u001b[0m\u001b[0;32m      6\u001b[0m \u001b[1;32mprint\u001b[0m \u001b[0mlen\u001b[0m\u001b[1;33m(\u001b[0m\u001b[0mall_frags\u001b[0m\u001b[1;33m)\u001b[0m\u001b[1;33m,\u001b[0m\u001b[0mlen\u001b[0m\u001b[1;33m(\u001b[0m\u001b[0mrelationships\u001b[0m\u001b[1;33m)\u001b[0m\u001b[1;33m\u001b[0m\u001b[0m\n",
      "\u001b[1;32m/global/u2/b/bpb/metaiq/pactolus/frag_molecule.pyc\u001b[0m in \u001b[0;36mrecursive_tree\u001b[1;34m(all_frags, relationships, mol)\u001b[0m\n\u001b[0;32m     37\u001b[0m         \u001b[1;32mif\u001b[0m \u001b[1;32mnot\u001b[0m \u001b[0mmyrel\u001b[0m \u001b[1;32min\u001b[0m \u001b[0mrelationships\u001b[0m\u001b[1;33m:\u001b[0m\u001b[1;33m\u001b[0m\u001b[0m\n\u001b[0;32m     38\u001b[0m             \u001b[0mrelationships\u001b[0m\u001b[1;33m.\u001b[0m\u001b[0mappend\u001b[0m\u001b[1;33m(\u001b[0m\u001b[0mmyrel\u001b[0m\u001b[1;33m)\u001b[0m\u001b[1;33m\u001b[0m\u001b[0m\n\u001b[1;32m---> 39\u001b[1;33m             \u001b[0mrecursive_tree\u001b[0m\u001b[1;33m(\u001b[0m\u001b[0mall_frags\u001b[0m\u001b[1;33m,\u001b[0m\u001b[0mrelationships\u001b[0m\u001b[1;33m,\u001b[0m\u001b[0mf\u001b[0m\u001b[1;33m[\u001b[0m\u001b[1;34m'frag_mol'\u001b[0m\u001b[1;33m]\u001b[0m\u001b[1;33m)\u001b[0m\u001b[1;33m\u001b[0m\u001b[0m\n\u001b[0m\u001b[0;32m     40\u001b[0m     \u001b[1;32mreturn\u001b[0m \u001b[0mall_frags\u001b[0m\u001b[1;33m,\u001b[0m\u001b[0mrelationships\u001b[0m\u001b[1;33m\u001b[0m\u001b[0m\n\u001b[0;32m     41\u001b[0m \"\"\"\n",
      "\u001b[1;32m/global/u2/b/bpb/metaiq/pactolus/frag_molecule.pyc\u001b[0m in \u001b[0;36mrecursive_tree\u001b[1;34m(all_frags, relationships, mol)\u001b[0m\n\u001b[0;32m     37\u001b[0m         \u001b[1;32mif\u001b[0m \u001b[1;32mnot\u001b[0m \u001b[0mmyrel\u001b[0m \u001b[1;32min\u001b[0m \u001b[0mrelationships\u001b[0m\u001b[1;33m:\u001b[0m\u001b[1;33m\u001b[0m\u001b[0m\n\u001b[0;32m     38\u001b[0m             \u001b[0mrelationships\u001b[0m\u001b[1;33m.\u001b[0m\u001b[0mappend\u001b[0m\u001b[1;33m(\u001b[0m\u001b[0mmyrel\u001b[0m\u001b[1;33m)\u001b[0m\u001b[1;33m\u001b[0m\u001b[0m\n\u001b[1;32m---> 39\u001b[1;33m             \u001b[0mrecursive_tree\u001b[0m\u001b[1;33m(\u001b[0m\u001b[0mall_frags\u001b[0m\u001b[1;33m,\u001b[0m\u001b[0mrelationships\u001b[0m\u001b[1;33m,\u001b[0m\u001b[0mf\u001b[0m\u001b[1;33m[\u001b[0m\u001b[1;34m'frag_mol'\u001b[0m\u001b[1;33m]\u001b[0m\u001b[1;33m)\u001b[0m\u001b[1;33m\u001b[0m\u001b[0m\n\u001b[0m\u001b[0;32m     40\u001b[0m     \u001b[1;32mreturn\u001b[0m \u001b[0mall_frags\u001b[0m\u001b[1;33m,\u001b[0m\u001b[0mrelationships\u001b[0m\u001b[1;33m\u001b[0m\u001b[0m\n\u001b[0;32m     41\u001b[0m \"\"\"\n",
      "\u001b[1;32m/global/u2/b/bpb/metaiq/pactolus/frag_molecule.pyc\u001b[0m in \u001b[0;36mrecursive_tree\u001b[1;34m(all_frags, relationships, mol)\u001b[0m\n\u001b[0;32m     37\u001b[0m         \u001b[1;32mif\u001b[0m \u001b[1;32mnot\u001b[0m \u001b[0mmyrel\u001b[0m \u001b[1;32min\u001b[0m \u001b[0mrelationships\u001b[0m\u001b[1;33m:\u001b[0m\u001b[1;33m\u001b[0m\u001b[0m\n\u001b[0;32m     38\u001b[0m             \u001b[0mrelationships\u001b[0m\u001b[1;33m.\u001b[0m\u001b[0mappend\u001b[0m\u001b[1;33m(\u001b[0m\u001b[0mmyrel\u001b[0m\u001b[1;33m)\u001b[0m\u001b[1;33m\u001b[0m\u001b[0m\n\u001b[1;32m---> 39\u001b[1;33m             \u001b[0mrecursive_tree\u001b[0m\u001b[1;33m(\u001b[0m\u001b[0mall_frags\u001b[0m\u001b[1;33m,\u001b[0m\u001b[0mrelationships\u001b[0m\u001b[1;33m,\u001b[0m\u001b[0mf\u001b[0m\u001b[1;33m[\u001b[0m\u001b[1;34m'frag_mol'\u001b[0m\u001b[1;33m]\u001b[0m\u001b[1;33m)\u001b[0m\u001b[1;33m\u001b[0m\u001b[0m\n\u001b[0m\u001b[0;32m     40\u001b[0m     \u001b[1;32mreturn\u001b[0m \u001b[0mall_frags\u001b[0m\u001b[1;33m,\u001b[0m\u001b[0mrelationships\u001b[0m\u001b[1;33m\u001b[0m\u001b[0m\n\u001b[0;32m     41\u001b[0m \"\"\"\n",
      "\u001b[1;32m/global/u2/b/bpb/metaiq/pactolus/frag_molecule.pyc\u001b[0m in \u001b[0;36mrecursive_tree\u001b[1;34m(all_frags, relationships, mol)\u001b[0m\n\u001b[0;32m     37\u001b[0m         \u001b[1;32mif\u001b[0m \u001b[1;32mnot\u001b[0m \u001b[0mmyrel\u001b[0m \u001b[1;32min\u001b[0m \u001b[0mrelationships\u001b[0m\u001b[1;33m:\u001b[0m\u001b[1;33m\u001b[0m\u001b[0m\n\u001b[0;32m     38\u001b[0m             \u001b[0mrelationships\u001b[0m\u001b[1;33m.\u001b[0m\u001b[0mappend\u001b[0m\u001b[1;33m(\u001b[0m\u001b[0mmyrel\u001b[0m\u001b[1;33m)\u001b[0m\u001b[1;33m\u001b[0m\u001b[0m\n\u001b[1;32m---> 39\u001b[1;33m             \u001b[0mrecursive_tree\u001b[0m\u001b[1;33m(\u001b[0m\u001b[0mall_frags\u001b[0m\u001b[1;33m,\u001b[0m\u001b[0mrelationships\u001b[0m\u001b[1;33m,\u001b[0m\u001b[0mf\u001b[0m\u001b[1;33m[\u001b[0m\u001b[1;34m'frag_mol'\u001b[0m\u001b[1;33m]\u001b[0m\u001b[1;33m)\u001b[0m\u001b[1;33m\u001b[0m\u001b[0m\n\u001b[0m\u001b[0;32m     40\u001b[0m     \u001b[1;32mreturn\u001b[0m \u001b[0mall_frags\u001b[0m\u001b[1;33m,\u001b[0m\u001b[0mrelationships\u001b[0m\u001b[1;33m\u001b[0m\u001b[0m\n\u001b[0;32m     41\u001b[0m \"\"\"\n",
      "\u001b[1;32m/global/u2/b/bpb/metaiq/pactolus/frag_molecule.pyc\u001b[0m in \u001b[0;36mrecursive_tree\u001b[1;34m(all_frags, relationships, mol)\u001b[0m\n\u001b[0;32m     37\u001b[0m         \u001b[1;32mif\u001b[0m \u001b[1;32mnot\u001b[0m \u001b[0mmyrel\u001b[0m \u001b[1;32min\u001b[0m \u001b[0mrelationships\u001b[0m\u001b[1;33m:\u001b[0m\u001b[1;33m\u001b[0m\u001b[0m\n\u001b[0;32m     38\u001b[0m             \u001b[0mrelationships\u001b[0m\u001b[1;33m.\u001b[0m\u001b[0mappend\u001b[0m\u001b[1;33m(\u001b[0m\u001b[0mmyrel\u001b[0m\u001b[1;33m)\u001b[0m\u001b[1;33m\u001b[0m\u001b[0m\n\u001b[1;32m---> 39\u001b[1;33m             \u001b[0mrecursive_tree\u001b[0m\u001b[1;33m(\u001b[0m\u001b[0mall_frags\u001b[0m\u001b[1;33m,\u001b[0m\u001b[0mrelationships\u001b[0m\u001b[1;33m,\u001b[0m\u001b[0mf\u001b[0m\u001b[1;33m[\u001b[0m\u001b[1;34m'frag_mol'\u001b[0m\u001b[1;33m]\u001b[0m\u001b[1;33m)\u001b[0m\u001b[1;33m\u001b[0m\u001b[0m\n\u001b[0m\u001b[0;32m     40\u001b[0m     \u001b[1;32mreturn\u001b[0m \u001b[0mall_frags\u001b[0m\u001b[1;33m,\u001b[0m\u001b[0mrelationships\u001b[0m\u001b[1;33m\u001b[0m\u001b[0m\n\u001b[0;32m     41\u001b[0m \"\"\"\n",
      "\u001b[1;32m/global/u2/b/bpb/metaiq/pactolus/frag_molecule.pyc\u001b[0m in \u001b[0;36mrecursive_tree\u001b[1;34m(all_frags, relationships, mol)\u001b[0m\n\u001b[0;32m     37\u001b[0m         \u001b[1;32mif\u001b[0m \u001b[1;32mnot\u001b[0m \u001b[0mmyrel\u001b[0m \u001b[1;32min\u001b[0m \u001b[0mrelationships\u001b[0m\u001b[1;33m:\u001b[0m\u001b[1;33m\u001b[0m\u001b[0m\n\u001b[0;32m     38\u001b[0m             \u001b[0mrelationships\u001b[0m\u001b[1;33m.\u001b[0m\u001b[0mappend\u001b[0m\u001b[1;33m(\u001b[0m\u001b[0mmyrel\u001b[0m\u001b[1;33m)\u001b[0m\u001b[1;33m\u001b[0m\u001b[0m\n\u001b[1;32m---> 39\u001b[1;33m             \u001b[0mrecursive_tree\u001b[0m\u001b[1;33m(\u001b[0m\u001b[0mall_frags\u001b[0m\u001b[1;33m,\u001b[0m\u001b[0mrelationships\u001b[0m\u001b[1;33m,\u001b[0m\u001b[0mf\u001b[0m\u001b[1;33m[\u001b[0m\u001b[1;34m'frag_mol'\u001b[0m\u001b[1;33m]\u001b[0m\u001b[1;33m)\u001b[0m\u001b[1;33m\u001b[0m\u001b[0m\n\u001b[0m\u001b[0;32m     40\u001b[0m     \u001b[1;32mreturn\u001b[0m \u001b[0mall_frags\u001b[0m\u001b[1;33m,\u001b[0m\u001b[0mrelationships\u001b[0m\u001b[1;33m\u001b[0m\u001b[0m\n\u001b[0;32m     41\u001b[0m \"\"\"\n",
      "\u001b[1;32m/global/u2/b/bpb/metaiq/pactolus/frag_molecule.pyc\u001b[0m in \u001b[0;36mrecursive_tree\u001b[1;34m(all_frags, relationships, mol)\u001b[0m\n\u001b[0;32m     37\u001b[0m         \u001b[1;32mif\u001b[0m \u001b[1;32mnot\u001b[0m \u001b[0mmyrel\u001b[0m \u001b[1;32min\u001b[0m \u001b[0mrelationships\u001b[0m\u001b[1;33m:\u001b[0m\u001b[1;33m\u001b[0m\u001b[0m\n\u001b[0;32m     38\u001b[0m             \u001b[0mrelationships\u001b[0m\u001b[1;33m.\u001b[0m\u001b[0mappend\u001b[0m\u001b[1;33m(\u001b[0m\u001b[0mmyrel\u001b[0m\u001b[1;33m)\u001b[0m\u001b[1;33m\u001b[0m\u001b[0m\n\u001b[1;32m---> 39\u001b[1;33m             \u001b[0mrecursive_tree\u001b[0m\u001b[1;33m(\u001b[0m\u001b[0mall_frags\u001b[0m\u001b[1;33m,\u001b[0m\u001b[0mrelationships\u001b[0m\u001b[1;33m,\u001b[0m\u001b[0mf\u001b[0m\u001b[1;33m[\u001b[0m\u001b[1;34m'frag_mol'\u001b[0m\u001b[1;33m]\u001b[0m\u001b[1;33m)\u001b[0m\u001b[1;33m\u001b[0m\u001b[0m\n\u001b[0m\u001b[0;32m     40\u001b[0m     \u001b[1;32mreturn\u001b[0m \u001b[0mall_frags\u001b[0m\u001b[1;33m,\u001b[0m\u001b[0mrelationships\u001b[0m\u001b[1;33m\u001b[0m\u001b[0m\n\u001b[0;32m     41\u001b[0m \"\"\"\n",
      "\u001b[1;32m/global/u2/b/bpb/metaiq/pactolus/frag_molecule.pyc\u001b[0m in \u001b[0;36mrecursive_tree\u001b[1;34m(all_frags, relationships, mol)\u001b[0m\n\u001b[0;32m     37\u001b[0m         \u001b[1;32mif\u001b[0m \u001b[1;32mnot\u001b[0m \u001b[0mmyrel\u001b[0m \u001b[1;32min\u001b[0m \u001b[0mrelationships\u001b[0m\u001b[1;33m:\u001b[0m\u001b[1;33m\u001b[0m\u001b[0m\n\u001b[0;32m     38\u001b[0m             \u001b[0mrelationships\u001b[0m\u001b[1;33m.\u001b[0m\u001b[0mappend\u001b[0m\u001b[1;33m(\u001b[0m\u001b[0mmyrel\u001b[0m\u001b[1;33m)\u001b[0m\u001b[1;33m\u001b[0m\u001b[0m\n\u001b[1;32m---> 39\u001b[1;33m             \u001b[0mrecursive_tree\u001b[0m\u001b[1;33m(\u001b[0m\u001b[0mall_frags\u001b[0m\u001b[1;33m,\u001b[0m\u001b[0mrelationships\u001b[0m\u001b[1;33m,\u001b[0m\u001b[0mf\u001b[0m\u001b[1;33m[\u001b[0m\u001b[1;34m'frag_mol'\u001b[0m\u001b[1;33m]\u001b[0m\u001b[1;33m)\u001b[0m\u001b[1;33m\u001b[0m\u001b[0m\n\u001b[0m\u001b[0;32m     40\u001b[0m     \u001b[1;32mreturn\u001b[0m \u001b[0mall_frags\u001b[0m\u001b[1;33m,\u001b[0m\u001b[0mrelationships\u001b[0m\u001b[1;33m\u001b[0m\u001b[0m\n\u001b[0;32m     41\u001b[0m \"\"\"\n",
      "\u001b[1;32m/global/u2/b/bpb/metaiq/pactolus/frag_molecule.pyc\u001b[0m in \u001b[0;36mrecursive_tree\u001b[1;34m(all_frags, relationships, mol)\u001b[0m\n\u001b[0;32m     37\u001b[0m         \u001b[1;32mif\u001b[0m \u001b[1;32mnot\u001b[0m \u001b[0mmyrel\u001b[0m \u001b[1;32min\u001b[0m \u001b[0mrelationships\u001b[0m\u001b[1;33m:\u001b[0m\u001b[1;33m\u001b[0m\u001b[0m\n\u001b[0;32m     38\u001b[0m             \u001b[0mrelationships\u001b[0m\u001b[1;33m.\u001b[0m\u001b[0mappend\u001b[0m\u001b[1;33m(\u001b[0m\u001b[0mmyrel\u001b[0m\u001b[1;33m)\u001b[0m\u001b[1;33m\u001b[0m\u001b[0m\n\u001b[1;32m---> 39\u001b[1;33m             \u001b[0mrecursive_tree\u001b[0m\u001b[1;33m(\u001b[0m\u001b[0mall_frags\u001b[0m\u001b[1;33m,\u001b[0m\u001b[0mrelationships\u001b[0m\u001b[1;33m,\u001b[0m\u001b[0mf\u001b[0m\u001b[1;33m[\u001b[0m\u001b[1;34m'frag_mol'\u001b[0m\u001b[1;33m]\u001b[0m\u001b[1;33m)\u001b[0m\u001b[1;33m\u001b[0m\u001b[0m\n\u001b[0m\u001b[0;32m     40\u001b[0m     \u001b[1;32mreturn\u001b[0m \u001b[0mall_frags\u001b[0m\u001b[1;33m,\u001b[0m\u001b[0mrelationships\u001b[0m\u001b[1;33m\u001b[0m\u001b[0m\n\u001b[0;32m     41\u001b[0m \"\"\"\n",
      "\u001b[1;32m/global/u2/b/bpb/metaiq/pactolus/frag_molecule.pyc\u001b[0m in \u001b[0;36mrecursive_tree\u001b[1;34m(all_frags, relationships, mol)\u001b[0m\n\u001b[0;32m     37\u001b[0m         \u001b[1;32mif\u001b[0m \u001b[1;32mnot\u001b[0m \u001b[0mmyrel\u001b[0m \u001b[1;32min\u001b[0m \u001b[0mrelationships\u001b[0m\u001b[1;33m:\u001b[0m\u001b[1;33m\u001b[0m\u001b[0m\n\u001b[0;32m     38\u001b[0m             \u001b[0mrelationships\u001b[0m\u001b[1;33m.\u001b[0m\u001b[0mappend\u001b[0m\u001b[1;33m(\u001b[0m\u001b[0mmyrel\u001b[0m\u001b[1;33m)\u001b[0m\u001b[1;33m\u001b[0m\u001b[0m\n\u001b[1;32m---> 39\u001b[1;33m             \u001b[0mrecursive_tree\u001b[0m\u001b[1;33m(\u001b[0m\u001b[0mall_frags\u001b[0m\u001b[1;33m,\u001b[0m\u001b[0mrelationships\u001b[0m\u001b[1;33m,\u001b[0m\u001b[0mf\u001b[0m\u001b[1;33m[\u001b[0m\u001b[1;34m'frag_mol'\u001b[0m\u001b[1;33m]\u001b[0m\u001b[1;33m)\u001b[0m\u001b[1;33m\u001b[0m\u001b[0m\n\u001b[0m\u001b[0;32m     40\u001b[0m     \u001b[1;32mreturn\u001b[0m \u001b[0mall_frags\u001b[0m\u001b[1;33m,\u001b[0m\u001b[0mrelationships\u001b[0m\u001b[1;33m\u001b[0m\u001b[0m\n\u001b[0;32m     41\u001b[0m \"\"\"\n",
      "\u001b[1;32m/global/u2/b/bpb/metaiq/pactolus/frag_molecule.pyc\u001b[0m in \u001b[0;36mrecursive_tree\u001b[1;34m(all_frags, relationships, mol)\u001b[0m\n\u001b[0;32m     35\u001b[0m             \u001b[0mall_frags\u001b[0m\u001b[1;33m.\u001b[0m\u001b[0mappend\u001b[0m\u001b[1;33m(\u001b[0m\u001b[0mfragment\u001b[0m\u001b[1;33m)\u001b[0m\u001b[1;33m\u001b[0m\u001b[0m\n\u001b[0;32m     36\u001b[0m         \u001b[0mmyrel\u001b[0m \u001b[1;33m=\u001b[0m \u001b[1;33m(\u001b[0m\u001b[0mall_frags\u001b[0m\u001b[1;33m.\u001b[0m\u001b[0mindex\u001b[0m\u001b[1;33m(\u001b[0m\u001b[0mparent\u001b[0m\u001b[1;33m)\u001b[0m\u001b[1;33m,\u001b[0m\u001b[0mall_frags\u001b[0m\u001b[1;33m.\u001b[0m\u001b[0mindex\u001b[0m\u001b[1;33m(\u001b[0m\u001b[0mfragment\u001b[0m\u001b[1;33m)\u001b[0m\u001b[1;33m)\u001b[0m\u001b[1;33m\u001b[0m\u001b[0m\n\u001b[1;32m---> 37\u001b[1;33m         \u001b[1;32mif\u001b[0m \u001b[1;32mnot\u001b[0m \u001b[0mmyrel\u001b[0m \u001b[1;32min\u001b[0m \u001b[0mrelationships\u001b[0m\u001b[1;33m:\u001b[0m\u001b[1;33m\u001b[0m\u001b[0m\n\u001b[0m\u001b[0;32m     38\u001b[0m             \u001b[0mrelationships\u001b[0m\u001b[1;33m.\u001b[0m\u001b[0mappend\u001b[0m\u001b[1;33m(\u001b[0m\u001b[0mmyrel\u001b[0m\u001b[1;33m)\u001b[0m\u001b[1;33m\u001b[0m\u001b[0m\n\u001b[0;32m     39\u001b[0m             \u001b[0mrecursive_tree\u001b[0m\u001b[1;33m(\u001b[0m\u001b[0mall_frags\u001b[0m\u001b[1;33m,\u001b[0m\u001b[0mrelationships\u001b[0m\u001b[1;33m,\u001b[0m\u001b[0mf\u001b[0m\u001b[1;33m[\u001b[0m\u001b[1;34m'frag_mol'\u001b[0m\u001b[1;33m]\u001b[0m\u001b[1;33m)\u001b[0m\u001b[1;33m\u001b[0m\u001b[0m\n",
      "\u001b[1;31mKeyboardInterrupt\u001b[0m: "
     ]
    }
   ],
   "source": [
    "inchi = 'InChI=1S/C12H22O11/c13-1-3-5(15)6(16)9(19)12(22-3)23-10-4(2-14)21-11(20)8(18)7(10)17/h3-20H,1-2H2/t3-,4-,5+,6+,7-,8-,9-,10-,11-,12+/m1/s1'\n",
    "print inchi\n",
    "mol = Chem.MolFromInchi(inchi)\n",
    "mol = Chem.RemoveHs(mol)\n",
    "(all_frags,relationships) = frag.recursive_tree(all_frags,relationships,mol)\n",
    "print len(all_frags),len(relationships)"
   ]
  },
  {
   "cell_type": "markdown",
   "metadata": {},
   "source": [
    "# add cellobiose"
   ]
  },
  {
   "cell_type": "code",
   "execution_count": null,
   "metadata": {
    "collapsed": false
   },
   "outputs": [
    {
     "name": "stdout",
     "output_type": "stream",
     "text": [
      "InChI=1S/C12H22O11/c13-1-3-5(15)6(16)9(19)12(22-3)23-10-4(2-14)21-11(20)8(18)7(10)17/h3-20H,1-2H2/t3-,4-,5+,6+,7-,8-,9-,10-,11-,12+/m1/s1\n"
     ]
    }
   ],
   "source": [
    "inchi = 'InChI=1S/C12H22O11/c13-1-3-5(15)6(16)9(19)12(22-3)23-10-4(2-14)21-11(20)8(18)7(10)17/h3-20H,1-2H2/t3-,4-,5-,6+,7-,8-,9-,10-,11+,12+/m1/s1'\n",
    "print inchi\n",
    "mol = Chem.MolFromInchi(inchi)\n",
    "mol = Chem.RemoveHs(mol)\n",
    "(all_frags,relationships) = recursive_tree(all_frags,relationships,mol)\n",
    "print len(all_frags),len(relationships)"
   ]
  },
  {
   "cell_type": "code",
   "execution_count": 7,
   "metadata": {
    "collapsed": false,
    "scrolled": false
   },
   "outputs": [
    {
     "name": "stdout",
     "output_type": "stream",
     "text": [
      "0 \tNCCO\n",
      "1 \t[CH2]N\n",
      "2 \t[CH2]\n",
      "3 \t[NH2]\n",
      "4 \t[CH2]O\n",
      "5 \t[OH]\n",
      "6 \t[CH2]~[CH2]O\n",
      "7 \t[CH2]~[CH2]\n",
      "8 \t[CH2]~[OH]\n",
      "9 \t[CH2]~[CH2]~[NH2]\n",
      "10 \t[CH2]~[NH2]\n",
      "11 \tNCCCO\n",
      "12 \t[CH2]CO\n",
      "13 \t[CH2]~[CH2]N\n",
      "14 \t[CH2]~[CH2]~[CH2]O\n",
      "15 \t[CH2]~[CH2]~[CH2]\n",
      "16 \t[CH2]~[CH2]~[OH]\n",
      "17 \t[CH2]~[CH2]~[CH2]~[NH2]\n",
      "18 \tC[N+](C)(C)CCO\n",
      "19 \t[CH3]\n",
      "20 \tC[N+](C)CCO\n",
      "21 \tC[N+]CCO\n",
      "22 \t[N+]CCO\n",
      "23 \t[CH2][N+]\n",
      "24 \t[N+]\n",
      "25 \t[CH2]~[CH2]~[N+]\n",
      "26 \t[CH2]~[N+]\n",
      "27 \t[CH2][N+]~[CH3]\n",
      "28 \t[CH3]~[N+]\n",
      "29 \t[CH2]~[CH2]~[N+]~[CH3]\n",
      "30 \t[CH2]~[N+]~[CH3]\n",
      "31 \t[CH3]~[N+]CCO\n",
      "32 \t[N+]~[CH2]~[CH2]~[OH]\n",
      "33 \t[CH2][N+](~[CH3])~[CH3]\n",
      "34 \t[CH3]~[N+]~[CH3]\n",
      "35 \t[CH2]~[CH2]~[N+](~[CH3])~[CH3]\n",
      "36 \t[CH2]~[N+](~[CH3])~[CH3]\n",
      "37 \t[CH3]~[N+](C)CCO\n",
      "38 \t[CH3]~[N+]~[CH2]~[CH2]~[OH]\n",
      "39 \t[CH3]~[N+](~[CH3])CCO\n",
      "40 \t[CH2][N+](~[CH3])(~[CH3])~[CH3]\n",
      "41 \t[CH3]~[N+](~[CH3])~[CH3]\n",
      "42 \t[CH2]~[CH2]~[N+](~[CH3])(~[CH3])~[CH3]\n",
      "43 \t[CH2]~[N+](~[CH3])(~[CH3])~[CH3]\n",
      "44 \tC[N+](C)(C)C\n",
      "45 \tC[N+](C)C\n",
      "46 \tC[N+]C\n",
      "47 \tC[N+]\n",
      "48 \t[CH3]~[N+]C\n",
      "49 \t[CH3]~[N+](C)C\n",
      "50 \t[CH3]~[N+](~[CH3])C\n",
      "\n",
      "0 \t(0, 1)\n",
      "1 \t(1, 2)\n",
      "2 \t(1, 3)\n",
      "3 \t(0, 4)\n",
      "4 \t(4, 2)\n",
      "5 \t(4, 5)\n",
      "6 \t(0, 6)\n",
      "7 \t(6, 7)\n",
      "8 \t(7, 2)\n",
      "9 \t(6, 5)\n",
      "10 \t(6, 2)\n",
      "11 \t(6, 8)\n",
      "12 \t(8, 2)\n",
      "13 \t(8, 5)\n",
      "14 \t(0, 3)\n",
      "15 \t(0, 9)\n",
      "16 \t(9, 10)\n",
      "17 \t(10, 2)\n",
      "18 \t(10, 3)\n",
      "19 \t(9, 2)\n",
      "20 \t(9, 7)\n",
      "21 \t(9, 3)\n",
      "22 \t(0, 5)\n",
      "23 \t(11, 12)\n",
      "24 \t(12, 2)\n",
      "25 \t(12, 4)\n",
      "26 \t(12, 7)\n",
      "27 \t(12, 5)\n",
      "28 \t(11, 1)\n",
      "29 \t(11, 13)\n",
      "30 \t(13, 7)\n",
      "31 \t(13, 3)\n",
      "32 \t(13, 2)\n",
      "33 \t(13, 10)\n",
      "34 \t(11, 4)\n",
      "35 \t(11, 14)\n",
      "36 \t(14, 15)\n",
      "37 \t(15, 7)\n",
      "38 \t(15, 2)\n",
      "39 \t(14, 5)\n",
      "40 \t(14, 16)\n",
      "41 \t(16, 2)\n",
      "42 \t(16, 8)\n",
      "43 \t(16, 7)\n",
      "44 \t(16, 5)\n",
      "45 \t(14, 2)\n",
      "46 \t(14, 7)\n",
      "47 \t(14, 8)\n",
      "48 \t(11, 3)\n",
      "49 \t(11, 17)\n",
      "50 \t(17, 7)\n",
      "51 \t(17, 10)\n",
      "52 \t(17, 9)\n",
      "53 \t(17, 2)\n",
      "54 \t(17, 15)\n",
      "55 \t(17, 3)\n",
      "56 \t(11, 5)\n",
      "57 \t(18, 19)\n",
      "58 \t(18, 20)\n",
      "59 \t(20, 19)\n",
      "60 \t(20, 21)\n",
      "61 \t(21, 19)\n",
      "62 \t(21, 22)\n",
      "63 \t(22, 23)\n",
      "64 \t(23, 2)\n",
      "65 \t(23, 24)\n",
      "66 \t(22, 4)\n",
      "67 \t(22, 6)\n",
      "68 \t(22, 24)\n",
      "69 \t(22, 25)\n",
      "70 \t(25, 26)\n",
      "71 \t(26, 2)\n",
      "72 \t(26, 24)\n",
      "73 \t(25, 2)\n",
      "74 \t(25, 7)\n",
      "75 \t(25, 24)\n",
      "76 \t(22, 5)\n",
      "77 \t(21, 27)\n",
      "78 \t(27, 28)\n",
      "79 \t(28, 19)\n",
      "80 \t(28, 24)\n",
      "81 \t(27, 2)\n",
      "82 \t(27, 19)\n",
      "83 \t(27, 26)\n",
      "84 \t(21, 4)\n",
      "85 \t(21, 28)\n",
      "86 \t(21, 6)\n",
      "87 \t(21, 29)\n",
      "88 \t(29, 19)\n",
      "89 \t(29, 25)\n",
      "90 \t(29, 30)\n",
      "91 \t(30, 28)\n",
      "92 \t(30, 2)\n",
      "93 \t(30, 19)\n",
      "94 \t(30, 26)\n",
      "95 \t(29, 2)\n",
      "96 \t(29, 28)\n",
      "97 \t(29, 7)\n",
      "98 \t(21, 5)\n",
      "99 \t(20, 31)\n",
      "100 \t(31, 27)\n",
      "101 \t(31, 4)\n",
      "102 \t(31, 28)\n",
      "103 \t(31, 6)\n",
      "104 \t(31, 29)\n",
      "105 \t(31, 5)\n",
      "106 \t(31, 19)\n",
      "107 \t(31, 32)\n",
      "108 \t(32, 26)\n",
      "109 \t(32, 8)\n",
      "110 \t(32, 16)\n",
      "111 \t(32, 24)\n",
      "112 \t(32, 25)\n",
      "113 \t(32, 5)\n",
      "114 \t(20, 33)\n",
      "115 \t(33, 34)\n",
      "116 \t(34, 19)\n",
      "117 \t(34, 28)\n",
      "118 \t(33, 2)\n",
      "119 \t(33, 19)\n",
      "120 \t(33, 30)\n",
      "121 \t(20, 4)\n",
      "122 \t(20, 34)\n",
      "123 \t(20, 6)\n",
      "124 \t(20, 35)\n",
      "125 \t(35, 19)\n",
      "126 \t(35, 29)\n",
      "127 \t(35, 36)\n",
      "128 \t(36, 34)\n",
      "129 \t(36, 2)\n",
      "130 \t(36, 19)\n",
      "131 \t(36, 30)\n",
      "132 \t(35, 2)\n",
      "133 \t(35, 34)\n",
      "134 \t(35, 7)\n",
      "135 \t(20, 5)\n",
      "136 \t(18, 37)\n",
      "137 \t(37, 31)\n",
      "138 \t(37, 19)\n",
      "139 \t(37, 33)\n",
      "140 \t(37, 4)\n",
      "141 \t(37, 34)\n",
      "142 \t(37, 6)\n",
      "143 \t(37, 35)\n",
      "144 \t(37, 5)\n",
      "145 \t(37, 38)\n",
      "146 \t(38, 19)\n",
      "147 \t(38, 32)\n",
      "148 \t(38, 30)\n",
      "149 \t(38, 8)\n",
      "150 \t(38, 28)\n",
      "151 \t(38, 16)\n",
      "152 \t(38, 29)\n",
      "153 \t(38, 5)\n",
      "154 \t(18, 39)\n",
      "155 \t(39, 33)\n",
      "156 \t(39, 4)\n",
      "157 \t(39, 34)\n",
      "158 \t(39, 6)\n",
      "159 \t(39, 35)\n",
      "160 \t(39, 5)\n",
      "161 \t(39, 19)\n",
      "162 \t(39, 38)\n",
      "163 \t(18, 40)\n",
      "164 \t(40, 41)\n",
      "165 \t(41, 19)\n",
      "166 \t(41, 34)\n",
      "167 \t(40, 2)\n",
      "168 \t(40, 19)\n",
      "169 \t(40, 36)\n",
      "170 \t(18, 4)\n",
      "171 \t(18, 41)\n",
      "172 \t(18, 6)\n",
      "173 \t(18, 42)\n",
      "174 \t(42, 19)\n",
      "175 \t(42, 35)\n",
      "176 \t(42, 43)\n",
      "177 \t(43, 41)\n",
      "178 \t(43, 2)\n",
      "179 \t(43, 19)\n",
      "180 \t(43, 36)\n",
      "181 \t(42, 2)\n",
      "182 \t(42, 41)\n",
      "183 \t(42, 7)\n",
      "184 \t(18, 5)\n",
      "185 \t(44, 19)\n",
      "186 \t(44, 45)\n",
      "187 \t(45, 19)\n",
      "188 \t(45, 46)\n",
      "189 \t(46, 19)\n",
      "190 \t(46, 47)\n",
      "191 \t(47, 19)\n",
      "192 \t(47, 24)\n",
      "193 \t(46, 28)\n",
      "194 \t(45, 48)\n",
      "195 \t(48, 28)\n",
      "196 \t(48, 19)\n",
      "197 \t(45, 34)\n",
      "198 \t(44, 49)\n",
      "199 \t(49, 48)\n",
      "200 \t(49, 19)\n",
      "201 \t(49, 34)\n",
      "202 \t(44, 50)\n",
      "203 \t(50, 34)\n",
      "204 \t(50, 19)\n",
      "205 \t(44, 41)\n"
     ]
    }
   ],
   "source": [
    "for i,f in enumerate(all_frags):\n",
    "    print i,'\\t',f\n",
    "print\n",
    "for i,r in enumerate(relationships):\n",
    "    print i,'\\t',r"
   ]
  },
  {
   "cell_type": "code",
   "execution_count": null,
   "metadata": {
    "collapsed": true
   },
   "outputs": [],
   "source": []
  }
 ],
 "metadata": {
  "anaconda-cloud": {},
  "kernelspec": {
   "display_name": "Python 2.7",
   "language": "python",
   "name": "python2.7"
  },
  "language_info": {
   "codemirror_mode": {
    "name": "ipython",
    "version": 2
   },
   "file_extension": ".py",
   "mimetype": "text/x-python",
   "name": "python",
   "nbconvert_exporter": "python",
   "pygments_lexer": "ipython2",
   "version": "2.7.12"
  }
 },
 "nbformat": 4,
 "nbformat_minor": 0
}
