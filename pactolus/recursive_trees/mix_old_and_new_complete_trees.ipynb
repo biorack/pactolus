{
 "cells": [
  {
   "cell_type": "code",
   "execution_count": 41,
   "metadata": {
    "collapsed": false
   },
   "outputs": [],
   "source": [
    "import sys\n",
    "import os\n",
    "import glob\n",
    "import pandas as pd\n",
    "import numpy as np\n",
    "from matplotlib import pyplot as plt\n",
    "import h5py\n",
    "\n",
    "sys.path.insert(0,'/global/project/projectdirs/metatlas/anaconda/lib/python2.7/site-packages' )\n",
    "from rdkit import Chem\n",
    "\n",
    "sys.path.insert(1,'/global/homes/b/bpb/metaiq/')\n",
    "# import frag_molecule as frag\n",
    "import generate_frag_dag as frag\n",
    "\n",
    "from rdkit.Chem import AllChem\n",
    "from rdkit.Chem.Draw import IPythonConsole #Needed to show molecules\n",
    "from rdkit.Chem.Draw.MolDrawing import MolDrawing, DrawingOptions #Only needed if modifying defaults\n",
    "DrawingOptions.includeAtomNumbers=True\n",
    "DrawingOptions.bondLineWidth=1.8\n",
    "from rdkit.Chem import Draw\n",
    "from rdkit.Chem.Draw import IPythonConsole\n",
    "\n",
    "\n",
    "%matplotlib notebook\n",
    "#sys.path.insert(0,'/global/homes/b/bpb/metaiq/')\n",
    "#%import score_frag_dag as sfg"
   ]
  },
  {
   "cell_type": "code",
   "execution_count": 2,
   "metadata": {
    "collapsed": false,
    "scrolled": false
   },
   "outputs": [],
   "source": [
    "path = '/project/projectdirs/openmsi/projects/ben_trees/'\n",
    "tree_files = glob.glob(os.path.join(path,'*.h5'))"
   ]
  },
  {
   "cell_type": "code",
   "execution_count": 4,
   "metadata": {
    "collapsed": false
   },
   "outputs": [],
   "source": [
    "\n",
    "isotope_file = '/global/homes/b/bpb/metaiq/pactolus/max_abundance_isotopes.csv'\n",
    "isotope_dict = frag.get_isotope_dict(isotope_file)\n"
   ]
  },
  {
   "cell_type": "code",
   "execution_count": 11,
   "metadata": {
    "collapsed": false,
    "scrolled": false
   },
   "outputs": [
    {
     "name": "stdout",
     "output_type": "stream",
     "text": [
      "10\n",
      "(0, 4, 5, 6) {'path': (0,), 'mass': 15.023475095999999, 'parent': (0, 1, 2, 3, 4, 5, 6, 7, 8, 9, 10, 11, 12)}\n",
      "(2, 3, 9, 10, 11, 12) {'path': (1,), 'mass': 30.034374127999996, 'parent': (0, 1, 2, 3, 4, 5, 6, 7, 8, 9, 10, 11, 12)}\n",
      "(0, 1, 2, 4, 5, 6, 7, 8, 9, 10) {'path': (2,), 'mass': 43.054775224, 'parent': (0, 1, 2, 3, 4, 5, 6, 7, 8, 9, 10, 11, 12)}\n",
      "(0, 1, 4, 5, 6, 7, 8) {'path': (1,), 'mass': 29.039125159999998, 'parent': (0, 1, 2, 3, 4, 5, 6, 7, 8, 9, 10, 11, 12)}\n",
      "(3, 11, 12) {'path': (2,), 'mass': 16.018724064, 'parent': (0, 1, 2, 3, 4, 5, 6, 7, 8, 9, 10, 11, 12)}\n",
      "(1, 2, 7, 8, 9, 10) {'path': (0, 2), 'mass': 28.031300127999998, 'parent': (1, 2, 3, 7, 8, 9, 10, 11, 12)}\n",
      "(1, 7, 8) {'path': (0, 1), 'mass': 14.015650063999999, 'parent': (1, 2, 3, 7, 8, 9, 10, 11, 12)}\n",
      "(0, 1, 2, 3, 4, 5, 6, 7, 8, 9, 10, 11, 12) {'path': (), 'mass': 59.073499287999994, 'parent': None}\n",
      "(2, 9, 10) {'path': (1, 2), 'mass': 14.015650063999999, 'parent': (2, 3, 9, 10, 11, 12)}\n",
      "(1, 2, 3, 7, 8, 9, 10, 11, 12) {'path': (0,), 'mass': 44.050024191999995, 'parent': (0, 1, 2, 3, 4, 5, 6, 7, 8, 9, 10, 11, 12)}\n"
     ]
    }
   ],
   "source": [
    "#inchi = 'InChI=1S/C2H7NO/c3-1-2-4/h4H,1-3H2' #ethanolamine\n",
    "inchi = 'InChI=1S/C3H9N/c1-2-3-4/h2-4H2,1H3' #propylamine\n",
    "# inchi = 'InChI=1S/C12H27N/c1-2-3-4-5-6-7-8-9-10-11-12-13/h2-13H2,1H3' #dodecylamine\n",
    "# inchi = 'InChI=1S/C5H14NO/c1-6(2,3)4-5-7/h7H,4-5H2,1-3H3/q+1' #choline\n",
    "# inchi = 'InChI=1S/C4H12N/c1-5(2,3)4/h1-4H3/q+1' #tetramethylammonium\n",
    "#inchi = 'InChI=1S/C6H12O6/c7-1-2-3(8)4(9)5(10)6(11)12-2/h2-11H,1H2/t2-,3-,4+,5-,6?/m1/s1' #glucose\n",
    "#baumin\n",
    "# inchi = 'InChI=1S/C27H22O11/c1-36-23(34)12-16-11-21(32)24(26(37-16)14-4-7-18(29)20(31)9-14)25-22(33)10-15(38-27(25)35)5-2-13-3-6-17(28)19(30)8-13/h2-11,24,26,28-31,33H,12H2,1H3/b5-2+/t24-,26-/m1/s1'\n",
    "mol = Chem.MolFromInchi(inchi)\n",
    "\n",
    "frag = reload(frag)\n",
    "f_tree = frag.FragTree(mol,isotope_dict,50)\n",
    "print len(f_tree.fragment_dict.items())\n",
    "for k,v in f_tree.fragment_dict.items():\n",
    "    print k,v"
   ]
  },
  {
   "cell_type": "code",
   "execution_count": 73,
   "metadata": {
    "collapsed": false
   },
   "outputs": [
    {
     "name": "stdout",
     "output_type": "stream",
     "text": [
      "13\n"
     ]
    },
    {
     "data": {
      "image/png": "[encoded data removed]",
      "text/plain": [
       "<rdkit.Chem.rdchem.RWMol at 0x7f27537dc578>"
      ]
     },
     "execution_count": 73,
     "metadata": {},
     "output_type": "execute_result"
    }
   ],
   "source": [
    "wm = Chem.RWMol(Chem.AddHs(mol))\n",
    "num_atoms = wm.GetNumAtoms()\n",
    "print num_atoms\n",
    "wm\n"
   ]
  },
  {
   "cell_type": "code",
   "execution_count": 80,
   "metadata": {
    "collapsed": false
   },
   "outputs": [
    {
     "name": "stdout",
     "output_type": "stream",
     "text": [
      "(0, 4, 5, 6)\n",
      "[1, 2, 3, 7, 8, 9, 10, 11, 12]\n",
      "[1, 2, 3]\n"
     ]
    },
    {
     "ename": "RuntimeError",
     "evalue": "Range Error\n\tidx\n\tViolation occurred on line 155 in file Code/GraphMol/ROMol.cpp\n\tFailed Expression: 3 <= 1\n\tRDKIT: 2016.03.1\n\tBOOST: 1_56\n",
     "output_type": "error",
     "traceback": [
      "\u001b[1;31m\u001b[0m",
      "\u001b[1;31mRuntimeError\u001b[0mTraceback (most recent call last)",
      "\u001b[1;32m<ipython-input-80-6bda17dd316e>\u001b[0m in \u001b[0;36m<module>\u001b[1;34m()\u001b[0m\n\u001b[0;32m     10\u001b[0m \u001b[1;32mprint\u001b[0m \u001b[0mheavy_atoms_to_remove\u001b[0m\u001b[1;33m\u001b[0m\u001b[0m\n\u001b[0;32m     11\u001b[0m \u001b[1;32mfor\u001b[0m \u001b[0matom_idx\u001b[0m \u001b[1;32min\u001b[0m \u001b[0mheavy_atoms_to_remove\u001b[0m\u001b[1;33m:\u001b[0m\u001b[1;33m\u001b[0m\u001b[0m\n\u001b[1;32m---> 12\u001b[1;33m     \u001b[0mwm\u001b[0m\u001b[1;33m.\u001b[0m\u001b[0mRemoveAtom\u001b[0m\u001b[1;33m(\u001b[0m\u001b[0matom_idx\u001b[0m\u001b[1;33m)\u001b[0m\u001b[1;33m\u001b[0m\u001b[0m\n\u001b[0m\u001b[0;32m     13\u001b[0m \u001b[1;31m#     frags.append(wm)\u001b[0m\u001b[1;33m\u001b[0m\u001b[1;33m\u001b[0m\u001b[0m\n\u001b[0;32m     14\u001b[0m \u001b[1;31m#     print atom_idx\u001b[0m\u001b[1;33m\u001b[0m\u001b[1;33m\u001b[0m\u001b[0m\n",
      "\u001b[1;31mRuntimeError\u001b[0m: Range Error\n\tidx\n\tViolation occurred on line 155 in file Code/GraphMol/ROMol.cpp\n\tFailed Expression: 3 <= 1\n\tRDKIT: 2016.03.1\n\tBOOST: 1_56\n"
     ]
    }
   ],
   "source": [
    "frags = []\n",
    "# for k,v in f_tree.fragment_dict.items():\n",
    "k,v = f_tree.fragment_dict.items()[0]\n",
    "print k\n",
    "mol_hs = Chem.AddHs(mol)\n",
    "atoms_to_remove = list(set(range(num_atoms)) - set(k))\n",
    "print atoms_to_remove\n",
    "heavy_atoms_to_remove = [idx for idx in atoms_to_remove if mol_hs.GetAtomWithIdx(idx).GetAtomicNum() > 1]\n",
    "wm = Chem.RWMol(mol)\n",
    "print heavy_atoms_to_remove\n",
    "for atom_idx in heavy_atoms_to_remove:\n",
    "    wm.RemoveAtom(atom_idx)\n",
    "#     frags.append(wm)\n",
    "#     print atom_idx\n",
    "wm\n",
    "# Draw.MolsToGridImage(frags,molsPerRow=7,useSVG=True)"
   ]
  },
  {
   "cell_type": "code",
   "execution_count": null,
   "metadata": {
    "collapsed": true
   },
   "outputs": [],
   "source": [
    "\n",
    "# ethanolamine_file = [f for f in tree_files if 'HZAXFHJVJLSVMW-UHFFFAOYSA-N' in f][-1]\n",
    "# ethanolamine_file"
   ]
  },
  {
   "cell_type": "code",
   "execution_count": null,
   "metadata": {
    "collapsed": false
   },
   "outputs": [],
   "source": [
    "# tree_file = h5py.File(ethanolamine_file,'r')\n",
    "# tree_list = tree_file[tree_file.keys()[0]]\n",
    "# tree = tree_list[tree_list.keys()[0]]\n",
    "# print tree.dtype\n",
    "# print \n",
    "# for i,t in enumerate(tree):\n",
    "#     for s in t:\n",
    "#         print i,s\n",
    "#     print"
   ]
  },
  {
   "cell_type": "markdown",
   "metadata": {},
   "source": [
    "### each row is a compound structure\n",
    "* inchi_key\n",
    "* is it in metatlas\n",
    "* is a tree made to a depth of 5\n",
    "* inchi_key has exact chembl preferred name & synonyms\n",
    "* inchi_key has exact pubchem synonyms\n",
    "* partial inchi_key has pubchem synonyms\n",
    "* is a job submitted to build the tree\n"
   ]
  },
  {
   "cell_type": "markdown",
   "metadata": {},
   "source": [
    "## fields to add to metatlas db\n",
    "* path to tree file\n",
    "* prefered name from chembl\n",
    "* full inchikey synonyms from chembl\n",
    "* full inchikey synonyms from pubchem\n",
    "* partial inchikey synonyms from pubchem\n",
    "* partial inchikey pubchem cid\n",
    "* inchikey pubchem cid"
   ]
  },
  {
   "cell_type": "markdown",
   "metadata": {},
   "source": [
    "## submit inchi list to nersc\n",
    "* trees that are not built need to be built\n",
    "* small trees are fast\n",
    "* large trees take 10 minutes to days\n",
    "* once they are built register their location in the database\n",
    "* some structures can't be built for various reasons"
   ]
  },
  {
   "cell_type": "markdown",
   "metadata": {},
   "source": [
    "## stop-gap plan\n",
    "* add location of tree to database\n",
    "* all trees must be in database\n",
    "* not all database compound have trees\n",
    "\n",
    "## store complete fragmentation of trees\n",
    "* store all unique fragments\n",
    "* store parent child relationship for each fragment\n",
    "* at some point generating fragment is faster than storing\n",
    "* only store immediate relationship between fragment\n",
    "* each fragment has an id\n",
    "* store a table linking parent and child"
   ]
  },
  {
   "cell_type": "code",
   "execution_count": null,
   "metadata": {
    "collapsed": true
   },
   "outputs": [],
   "source": []
  }
 ],
 "metadata": {
  "kernelspec": {
   "display_name": "Python 2",
   "language": "python",
   "name": "python2"
  },
  "language_info": {
   "codemirror_mode": {
    "name": "ipython",
    "version": 2
   },
   "file_extension": ".py",
   "mimetype": "text/x-python",
   "name": "python",
   "nbconvert_exporter": "python",
   "pygments_lexer": "ipython2",
   "version": "2.7.11"
  }
 },
 "nbformat": 4,
 "nbformat_minor": 0
}
